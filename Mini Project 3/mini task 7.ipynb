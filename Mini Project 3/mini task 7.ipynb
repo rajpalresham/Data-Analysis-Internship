{
 "cells": [
  {
   "cell_type": "code",
   "execution_count": 19,
   "metadata": {},
   "outputs": [
    {
     "data": {
      "text/html": [
       "<div>\n",
       "<style scoped>\n",
       "    .dataframe tbody tr th:only-of-type {\n",
       "        vertical-align: middle;\n",
       "    }\n",
       "\n",
       "    .dataframe tbody tr th {\n",
       "        vertical-align: top;\n",
       "    }\n",
       "\n",
       "    .dataframe thead th {\n",
       "        text-align: right;\n",
       "    }\n",
       "</style>\n",
       "<table border=\"1\" class=\"dataframe\">\n",
       "  <thead>\n",
       "    <tr style=\"text-align: right;\">\n",
       "      <th></th>\n",
       "      <th>Activity Id</th>\n",
       "      <th>Type</th>\n",
       "      <th>Route Name</th>\n",
       "      <th>Distance (km)</th>\n",
       "      <th>Duration</th>\n",
       "      <th>Average Pace</th>\n",
       "      <th>Average Speed (km/h)</th>\n",
       "      <th>Calories Burned</th>\n",
       "      <th>Climb (m)</th>\n",
       "      <th>Average Heart Rate (bpm)</th>\n",
       "      <th>Friend's Tagged</th>\n",
       "      <th>Notes</th>\n",
       "      <th>GPX File</th>\n",
       "    </tr>\n",
       "    <tr>\n",
       "      <th>Date</th>\n",
       "      <th></th>\n",
       "      <th></th>\n",
       "      <th></th>\n",
       "      <th></th>\n",
       "      <th></th>\n",
       "      <th></th>\n",
       "      <th></th>\n",
       "      <th></th>\n",
       "      <th></th>\n",
       "      <th></th>\n",
       "      <th></th>\n",
       "      <th></th>\n",
       "      <th></th>\n",
       "    </tr>\n",
       "  </thead>\n",
       "  <tbody>\n",
       "    <tr>\n",
       "      <th>2018-11-11 14:05:12</th>\n",
       "      <td>c9627fed-14ac-47a2-bed3-2a2630c63c15</td>\n",
       "      <td>Running</td>\n",
       "      <td>NaN</td>\n",
       "      <td>10.44</td>\n",
       "      <td>58:40</td>\n",
       "      <td>5:37</td>\n",
       "      <td>10.68</td>\n",
       "      <td>774.0</td>\n",
       "      <td>130</td>\n",
       "      <td>159.0</td>\n",
       "      <td>NaN</td>\n",
       "      <td>NaN</td>\n",
       "      <td>2018-11-11-140512.gpx</td>\n",
       "    </tr>\n",
       "    <tr>\n",
       "      <th>2018-11-09 15:02:35</th>\n",
       "      <td>be65818d-a801-4847-a43b-2acdf4dc70e7</td>\n",
       "      <td>Running</td>\n",
       "      <td>NaN</td>\n",
       "      <td>12.84</td>\n",
       "      <td>1:14:12</td>\n",
       "      <td>5:47</td>\n",
       "      <td>10.39</td>\n",
       "      <td>954.0</td>\n",
       "      <td>168</td>\n",
       "      <td>159.0</td>\n",
       "      <td>NaN</td>\n",
       "      <td>NaN</td>\n",
       "      <td>2018-11-09-150235.gpx</td>\n",
       "    </tr>\n",
       "  </tbody>\n",
       "</table>\n",
       "</div>"
      ],
      "text/plain": [
       "                                              Activity Id     Type Route Name  \\\n",
       "Date                                                                            \n",
       "2018-11-11 14:05:12  c9627fed-14ac-47a2-bed3-2a2630c63c15  Running        NaN   \n",
       "2018-11-09 15:02:35  be65818d-a801-4847-a43b-2acdf4dc70e7  Running        NaN   \n",
       "\n",
       "                     Distance (km) Duration Average Pace  \\\n",
       "Date                                                       \n",
       "2018-11-11 14:05:12          10.44    58:40         5:37   \n",
       "2018-11-09 15:02:35          12.84  1:14:12         5:47   \n",
       "\n",
       "                     Average Speed (km/h)  Calories Burned  Climb (m)  \\\n",
       "Date                                                                    \n",
       "2018-11-11 14:05:12                 10.68            774.0        130   \n",
       "2018-11-09 15:02:35                 10.39            954.0        168   \n",
       "\n",
       "                     Average Heart Rate (bpm)  Friend's Tagged Notes  \\\n",
       "Date                                                                   \n",
       "2018-11-11 14:05:12                     159.0              NaN   NaN   \n",
       "2018-11-09 15:02:35                     159.0              NaN   NaN   \n",
       "\n",
       "                                  GPX File  \n",
       "Date                                        \n",
       "2018-11-11 14:05:12  2018-11-11-140512.gpx  \n",
       "2018-11-09 15:02:35  2018-11-09-150235.gpx  "
      ]
     },
     "execution_count": 19,
     "metadata": {},
     "output_type": "execute_result"
    }
   ],
   "source": [
    "import pandas as pd\n",
    "import matplotlib.pyplot as plt\n",
    "df_activities = pd.read_csv('cardioActivities.csv',parse_dates=True,index_col=\"Date\")\n",
    "df_activities.head(2)"
   ]
  },
  {
   "cell_type": "code",
   "execution_count": 20,
   "metadata": {},
   "outputs": [],
   "source": [
    "df_run=df_activities.loc[df_activities['Type'] == 'Running'].copy()\n",
    "runs_subset_2013_2018 = df_run.loc[\"2018-01-01 14:05:12\":\"2013-01-01 18:35:11\"]"
   ]
  },
  {
   "cell_type": "code",
   "execution_count": 24,
   "metadata": {
    "scrolled": false
   },
   "outputs": [
    {
     "data": {
      "image/png": "[encoded data removed]",
      "text/plain": [
       "<Figure size 576x360 with 1 Axes>"
      ]
     },
     "metadata": {
      "needs_background": "light"
     },
     "output_type": "display_data"
    }
   ],
   "source": [
    "df_run_dist_annual =  runs_subset_2013_2018[\"Distance (km)\"].resample(\"A\").sum()\n",
    "fig = plt.figure(figsize = (8,5))\n",
    "ax = df_run_dist_annual.plot(marker=\"^\", markersize=14, linewidth=0, color=\"Brown\")\n",
    "ax.set(ylim = [0,800],xlim= [\"2012\",\"2019\"],ylabel = \"Distance(km)\",xlabel = \"years\",title = \"Annual distance\")\n",
    "ax.axhspan(0,800,color=\"yellow\",alpha = 0.2)\n",
    "plt.show()"
   ]
  },
  {
   "cell_type": "code",
   "execution_count": null,
   "metadata": {},
   "outputs": [],
   "source": []
  }
 ],
 "metadata": {
  "kernelspec": {
   "display_name": "Python 3",
   "language": "python",
   "name": "python3"
  },
  "language_info": {
   "codemirror_mode": {
    "name": "ipython",
    "version": 3
   },
   "file_extension": ".py",
   "mimetype": "text/x-python",
   "name": "python",
   "nbconvert_exporter": "python",
   "pygments_lexer": "ipython3",
   "version": "3.7.6"
  }
 },
 "nbformat": 4,
 "nbformat_minor": 4
}
